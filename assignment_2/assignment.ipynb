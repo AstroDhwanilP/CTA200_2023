{
 "cells": [
  {
   "cell_type": "code",
   "execution_count": 1,
   "id": "412f3e7c",
   "metadata": {},
   "outputs": [],
   "source": [
    "import numpy as np\n",
    "import sympy as sy"
   ]
  },
  {
   "cell_type": "code",
   "execution_count": 2,
   "id": "f1d359c7",
   "metadata": {},
   "outputs": [],
   "source": [
    "def f(x):\n",
    "    \"\"\"\n",
    "    function to calculate f(x) = x^3 -x^2 -1\n",
    "    \"\"\"\n",
    "    return (x ** 3) - (x ** 2) - 1"
   ]
  },
  {
   "cell_type": "code",
   "execution_count": 3,
   "id": "e78dd2b8",
   "metadata": {},
   "outputs": [
    {
     "data": {
      "text/latex": [
       "$\\displaystyle 3 x^{2} - 2 x$"
      ],
      "text/plain": [
       "3*x**2 - 2*x"
      ]
     },
     "execution_count": 3,
     "metadata": {},
     "output_type": "execute_result"
    }
   ],
   "source": [
    "sym_x = sy.symbols('x')\n",
    "sy.diff(sym_x**3 - sym_x**2 -1 )"
   ]
  },
  {
   "cell_type": "code",
   "execution_count": 4,
   "id": "c4de87a1",
   "metadata": {},
   "outputs": [],
   "source": [
    "def df(x):\n",
    "    \"\"\"\n",
    "    function to calculate df/dx = 3x^2 - 2x - 0\n",
    "    \"\"\"\n",
    "    return (3*x ** 2) - (2 * x) - 0"
   ]
  },
  {
   "cell_type": "code",
   "execution_count": 29,
   "id": "b7992962",
   "metadata": {},
   "outputs": [],
   "source": [
    "def newton(f, df, x0, epsilon=1e-6, max_iter=30):\n",
    "    \"\"\"\n",
    "    function that performs Newton iteration (solve root) of function \n",
    "    f with derivative df. The iterations start with x0 for maximum \n",
    "    number of max_iter iterations with a tolerance of epsilon.\n",
    "    \"\"\"\n",
    "    x = x0\n",
    "    for i in range(max_iter):\n",
    "        if abs(f(x)) < epsilon:\n",
    "            print(f\"found root in {i}th iteration with epsilon = {epsilon} with x0 = {x0}\")\n",
    "            ans = f\"The root is {x}\"\n",
    "            return ans\n",
    "        x = x - (f(x)/df(x))\n",
    "    \n",
    "    print('Iteration failed')\n",
    "    return None \n",
    "\n",
    "        \n",
    "    \n",
    "\n",
    "    "
   ]
  },
  {
   "cell_type": "code",
   "execution_count": 30,
   "id": "835cb9aa",
   "metadata": {},
   "outputs": [],
   "source": [
    "#checking the functions"
   ]
  },
  {
   "cell_type": "code",
   "execution_count": 37,
   "id": "e854c269",
   "metadata": {},
   "outputs": [
    {
     "name": "stdout",
     "output_type": "stream",
     "text": [
      "found root in 9th iteration with epsilon = 1e-06 with x0 = 10\n",
      "found root in 8th iteration with epsilon = 0.0001 with x0 = 10\n",
      "found root in 9th iteration with epsilon = 1e-08 with x0 = 10\n",
      "\n",
      "\n",
      "found root in 20th iteration with epsilon = 1e-06 with x0 = 1000\n",
      "found root in 20th iteration with epsilon = 0.0001 with x0 = 1000\n",
      "found root in 21th iteration with epsilon = 1e-08 with x0 = 1000\n",
      "\n",
      "\n"
     ]
    }
   ],
   "source": [
    "#for x0 = 0.5 and 1.5 and epsilon = 1e-6, 1e-4, 1e-8\n",
    "x_array = [10, 1000]\n",
    "ep_array = [1e-6, 1e-4, 1e-8]\n",
    "\n",
    "for x_i in x_array:\n",
    "    for ep_i in ep_array:\n",
    "        newton(f, df, x_i, ep_i, max_iter=30)\n",
    "    print(\"\\n\")"
   ]
  },
  {
   "cell_type": "markdown",
   "id": "b1728af0",
   "metadata": {},
   "source": [
    "### Comment: \n",
    "Reducing the `epsilon` to $10^{-8}$ the function still converges but it took the same number of iterations to converge instead of increase in the number of iterations, while\n",
    "for `epsilon` to $10^{-4}$ the number of iterations decrease by 1 as expected for the smaller guess (10 in our case). \n",
    "\n",
    "On the contrary for a larger guess (100 here) the iterations for `epsilon` = $10^{-8}$ increases by 1 and for `epsilon` to $10^{-4}$ case the number of iteration stays the same as compared to `epsilon` to $10^{-6}$ "
   ]
  },
  {
   "cell_type": "code",
   "execution_count": null,
   "id": "55f0701a",
   "metadata": {},
   "outputs": [],
   "source": []
  }
 ],
 "metadata": {
  "kernelspec": {
   "display_name": "Python 3 (ipykernel)",
   "language": "python",
   "name": "python3"
  },
  "language_info": {
   "codemirror_mode": {
    "name": "ipython",
    "version": 3
   },
   "file_extension": ".py",
   "mimetype": "text/x-python",
   "name": "python",
   "nbconvert_exporter": "python",
   "pygments_lexer": "ipython3",
   "version": "3.10.2"
  }
 },
 "nbformat": 4,
 "nbformat_minor": 5
}
